{
    "nbformat_minor": 1, 
    "cells": [
        {
            "source": "# Introduction/Business Problem", 
            "cell_type": "markdown", 
            "metadata": {
                "collapsed": true
            }
        }, 
        {
            "source": "### Description & Discussion of the Background", 
            "cell_type": "markdown", 
            "metadata": {}
        }, 
        {
            "source": "Lima Metropolitan is one of the largest metropolises in the world where over 10 million people live and it has a population density of 11.000 people per square kilometer. The Metropolis is divided into 49 districts and they are all grouped in 4 mean regions: North Lima, East Lima, South Lima, Callao, Lima Central. At the same time, Lima Central contains 15 districts and is well known to be the tourist spot of Lima Metropolitan. As a resident of Lima Central and being aware of its popularity, I decided to use this region in my project.  However, the fact that the districts inside Lima Central are squeezed into an area of approximately 95 square kilometers and have a population density of 14 000 people per square kilometer overall, causes the city to have a very intertwined and mixed structure.\n\nAs you can see from the figures, Lima Central is a city with a high population density. Being such a crowded city leads the owners of shops, bars, restaurants and social sharing places in the city where the population is dense. When we think of it by the investor, we expect from them to prefer the districts where there is high traffic of people with a high income. If we think of the city residents, they may want to choose the regions where real rates values are higher, too. At the same time, they may want to choose the district according to the density of the social place and quality either social or environmental. However, it is difficult to obtain information that will guide investors in this direction, nowadays.\n\nWhen we consider all these problems, we can create a map and information chart where the real estate index is placed on Lima Central and each district is clustered according to the venue density and popular type of business.", 
            "cell_type": "markdown", 
            "metadata": {}
        }
    ], 
    "nbformat": 4, 
    "metadata": {
        "kernelspec": {
            "display_name": "Python 3.6", 
            "name": "python3", 
            "language": "python"
        }, 
        "language_info": {
            "mimetype": "text/x-python", 
            "nbconvert_exporter": "python", 
            "version": "3.6.8", 
            "name": "python", 
            "pygments_lexer": "ipython3", 
            "file_extension": ".py", 
            "codemirror_mode": {
                "version": 3, 
                "name": "ipython"
            }
        }
    }
}