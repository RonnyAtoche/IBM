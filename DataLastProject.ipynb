{
    "nbformat_minor": 1, 
    "cells": [
        {
            "source": "# Data ", 
            "cell_type": "markdown", 
            "metadata": {}
        }, 
        {
            "source": "### Description", 
            "cell_type": "markdown", 
            "metadata": {}
        }, 
        {
            "source": "To consider the problem we can list the data as below:\n\n1. I found the zip/postal codes and location of each district of Lima Central from GeoPostcodes and Vectomap from GeoData Limited.\n2. The\u00a0CSV file was created by myself and it contains coordinates of all districts of Lima Central. \n3. I used\u00a0Foursquare API\u00a0to get the most common venues of given Borough of Lima Central.", 
            "cell_type": "markdown", 
            "metadata": {}
        }, 
        {
            "source": "### Fundaments:", 
            "cell_type": "markdown", 
            "metadata": {}
        }, 
        {
            "source": "To determine which location an entrepreneur can open his bar so as to succeed, we need first to analyze which locations are the most likely people go to bars. We will do that by extracting data in a JSON format from Foursquare API\u00a0that shows us the top 100 places that people go the most with high rates within a radio of 500 meters from each district location. Once we have our top list, we will cluster our district with similar characteristics by using unsupervised machine learning algorithm K-means and will search which is the best places to open our bar. During the process of this analysis, we will be able to extract and analyze some other important data so that we can understand other places where people tend to go most in each district. Furthermore, we will be able to determine which districts share the same interests.\n\nIn resume:\n1. Read the data frame in our notebook.\n2. Sear for the most 100 commons venues in a radio of 500 meters from each district location by using \u00a0Foursquare API.\n3. Organize the data and show a table of the first 10 most popular venues of each district.\n4. Use unsupervised machine learning algorithm K-means clustering to group our district into clusters that share common characteristics.\n5. Analyze our result and give conclusions.", 
            "cell_type": "markdown", 
            "metadata": {
                "collapsed": true
            }
        }
    ], 
    "nbformat": 4, 
    "metadata": {
        "kernelspec": {
            "display_name": "Python 3.6", 
            "name": "python3", 
            "language": "python"
        }, 
        "language_info": {
            "mimetype": "text/x-python", 
            "nbconvert_exporter": "python", 
            "version": "3.6.8", 
            "name": "python", 
            "pygments_lexer": "ipython3", 
            "file_extension": ".py", 
            "codemirror_mode": {
                "version": 3, 
                "name": "ipython"
            }
        }
    }
}